{
 "cells": [
  {
   "cell_type": "markdown",
   "metadata": {},
   "source": [
    "# 1. Calculate area of circle."
   ]
  },
  {
   "cell_type": "code",
   "execution_count": 1,
   "metadata": {},
   "outputs": [],
   "source": [
    "def calcArea(radius,pi=3.14,*args,**kwargs):\n",
    "    area = pi * radius **2\n",
    "    return area"
   ]
  },
  {
   "cell_type": "code",
   "execution_count": 2,
   "metadata": {},
   "outputs": [
    {
     "data": {
      "text/plain": [
       "237.66659999999996"
      ]
     },
     "execution_count": 2,
     "metadata": {},
     "output_type": "execute_result"
    }
   ],
   "source": [
    "calcArea(8.7)"
   ]
  },
  {
   "cell_type": "code",
   "execution_count": 3,
   "metadata": {},
   "outputs": [
    {
     "data": {
      "text/plain": [
       "265.76959999999997"
      ]
     },
     "execution_count": 3,
     "metadata": {},
     "output_type": "execute_result"
    }
   ],
   "source": [
    "calcArea(9.2)"
   ]
  },
  {
   "cell_type": "code",
   "execution_count": 4,
   "metadata": {},
   "outputs": [
    {
     "data": {
      "text/plain": [
       "806.8572260000002"
      ]
     },
     "execution_count": 4,
     "metadata": {},
     "output_type": "execute_result"
    }
   ],
   "source": [
    "calcArea(16.03)"
   ]
  },
  {
   "cell_type": "markdown",
   "metadata": {},
   "source": [
    "# 2. Write function to check if a value exists in a list"
   ]
  },
  {
   "cell_type": "code",
   "execution_count": 43,
   "metadata": {},
   "outputs": [],
   "source": [
    "data = [\"python\", \"r\", \"java\", \"pascal\", \"c\", \"javascript\", \"assembley\", \"html\", \"c++\"]"
   ]
  },
  {
   "cell_type": "code",
   "execution_count": 44,
   "metadata": {},
   "outputs": [],
   "source": [
    "def checkVal(any_list):\n",
    "    a = input(\"enter value: \")\n",
    "    for i in any_list:\n",
    "        if a == i:\n",
    "            return any_list.index(i)"
   ]
  },
  {
   "cell_type": "code",
   "execution_count": 46,
   "metadata": {},
   "outputs": [
    {
     "name": "stdout",
     "output_type": "stream",
     "text": [
      "enter value: python\n"
     ]
    },
    {
     "data": {
      "text/plain": [
       "0"
      ]
     },
     "execution_count": 46,
     "metadata": {},
     "output_type": "execute_result"
    }
   ],
   "source": [
    "checkVal(data)"
   ]
  },
  {
   "cell_type": "code",
   "execution_count": 47,
   "metadata": {},
   "outputs": [
    {
     "name": "stdout",
     "output_type": "stream",
     "text": [
      "enter value: html\n"
     ]
    },
    {
     "data": {
      "text/plain": [
       "7"
      ]
     },
     "execution_count": 47,
     "metadata": {},
     "output_type": "execute_result"
    }
   ],
   "source": [
    "checkVal(data)"
   ]
  },
  {
   "cell_type": "code",
   "execution_count": 48,
   "metadata": {},
   "outputs": [
    {
     "name": "stdout",
     "output_type": "stream",
     "text": [
      "enter value: c\n"
     ]
    },
    {
     "data": {
      "text/plain": [
       "4"
      ]
     },
     "execution_count": 48,
     "metadata": {},
     "output_type": "execute_result"
    }
   ],
   "source": [
    "checkVal(data)"
   ]
  },
  {
   "cell_type": "markdown",
   "metadata": {},
   "source": [
    "# 4. Use while loop to get data"
   ]
  },
  {
   "cell_type": "code",
   "execution_count": 8,
   "metadata": {},
   "outputs": [
    {
     "name": "stdout",
     "output_type": "stream",
     "text": [
      "enter Radius: 4\n",
      "50.24\n"
     ]
    }
   ],
   "source": [
    "while True:\n",
    "    u = input (\"enter Radius: \")\n",
    "    if u != \"quit\":\n",
    "        a = float(u)\n",
    "        b = calcArea(a)\n",
    "        print(b)\n",
    "    \n",
    "    break"
   ]
  },
  {
   "cell_type": "code",
   "execution_count": 2,
   "metadata": {},
   "outputs": [
    {
     "name": "stdout",
     "output_type": "stream",
     "text": [
      "enter radius: quit\n"
     ]
    }
   ],
   "source": [
    "while True:\n",
    "    u = input (\"enter radius: \")\n",
    "    if u != \"quit\":\n",
    "        a = float(u)\n",
    "        b = calcArea(a)\n",
    "        print(b)\n",
    "    \n",
    "    break"
   ]
  },
  {
   "cell_type": "markdown",
   "metadata": {},
   "source": [
    "# 3. Write a function to shift list item to right n times"
   ]
  },
  {
   "cell_type": "code",
   "execution_count": 5,
   "metadata": {},
   "outputs": [],
   "source": [
    "def shiftItems(a_list,n):\n",
    "    return a_list[-n:]+a_list[:-n]"
   ]
  },
  {
   "cell_type": "code",
   "execution_count": 6,
   "metadata": {},
   "outputs": [],
   "source": [
    "data = [\"python\", \"r\", \"java\", \"pascal\", \"c\", \"javascript\", \"assembley\", \"html\", \"c++\"]"
   ]
  },
  {
   "cell_type": "code",
   "execution_count": 7,
   "metadata": {},
   "outputs": [
    {
     "name": "stdout",
     "output_type": "stream",
     "text": [
      "['assembley', 'html', 'c++', 'python', 'r', 'java', 'pascal', 'c', 'javascript']\n"
     ]
    }
   ],
   "source": [
    "print(shiftItems(data,3))"
   ]
  },
  {
   "cell_type": "code",
   "execution_count": 8,
   "metadata": {},
   "outputs": [
    {
     "name": "stdout",
     "output_type": "stream",
     "text": [
      "['c++', 'python', 'r', 'java', 'pascal', 'c', 'javascript', 'assembley', 'html']\n"
     ]
    }
   ],
   "source": [
    "print(shiftItems(data,1))"
   ]
  },
  {
   "cell_type": "code",
   "execution_count": 9,
   "metadata": {},
   "outputs": [
    {
     "name": "stdout",
     "output_type": "stream",
     "text": [
      "['html', 'c++', 'python', 'r', 'java', 'pascal', 'c', 'javascript', 'assembley']\n"
     ]
    }
   ],
   "source": [
    "print(shiftItems(data,2))"
   ]
  },
  {
   "cell_type": "markdown",
   "metadata": {},
   "source": [
    "# 5. Function with **kwargs:"
   ]
  },
  {
   "cell_type": "code",
   "execution_count": 89,
   "metadata": {},
   "outputs": [],
   "source": [
    "def showDetails(name=\"\",Class=\"\",marks= {},**kwargs):\n",
    "    total_marks = 0                   # calculation for percentage\n",
    "    for k,v in marks.items():\n",
    "        total_marks += v\n",
    "    aveg = total_marks/len(marks)\n",
    "    \n",
    "    max_subject = \"\"                  # Max Subject\n",
    "    for k,v in marks.items():\n",
    "        if v == max(marks.values()):\n",
    "            max_subject = k\n",
    "    \n",
    "    min_subject = \"\"                  # Min Subject\n",
    "    for k,v in marks.items():\n",
    "        if v == min(marks.values()):\n",
    "            min_subject = k\n",
    "    \n",
    "    \n",
    "    msg = f\"\"\"\n",
    "Hello {name}\n",
    "Here is your result for class of {Class}.\n",
    "Your score card is as follows.\n",
    "ClassMarks:\n",
    "    math : {marks[\"math\"]}\n",
    "    physics : {marks[\"physics\"]}\n",
    "    biology : {marks[\"biology\"]}\n",
    "    computer : {marks[\"computer\"]}\n",
    "Total marks are: {total_marks}\n",
    "Percentage is as follows: {aveg}%\n",
    "Maximum marks are in \"{max_subject}\"\n",
    "Minimum marks are in \"{min_subject}\"\n",
    "You are promoted to next class.\n",
    "\"\"\"\n",
    "    return print(msg)"
   ]
  },
  {
   "cell_type": "code",
   "execution_count": 92,
   "metadata": {},
   "outputs": [
    {
     "name": "stdout",
     "output_type": "stream",
     "text": [
      "\n",
      "Hello Ammar\n",
      "Here is your result for class of AI.\n",
      "Your score card is as follows.\n",
      "ClassMarks:\n",
      "    math : 50\n",
      "    physics : 80\n",
      "    biology : 90\n",
      "    computer : 67\n",
      "Total marks are: 287\n",
      "Percentage is as follows: 71.75%\n",
      "Maximum marks are in \"biology\"\n",
      "Minimum marks are in \"math\"\n",
      "You are promoted to next class.\n",
      "\n"
     ]
    }
   ],
   "source": [
    "showDetails(name=\"Ammar\",Class=\"AI\",marks={\"math\" : 50, \"physics\" : 80, \"biology\" : 90, \"computer\" : 67},date = \"1 Feb 2020\", nextClass = True)"
   ]
  },
  {
   "cell_type": "code",
   "execution_count": null,
   "metadata": {},
   "outputs": [],
   "source": []
  }
 ],
 "metadata": {
  "kernelspec": {
   "display_name": "Python 3",
   "language": "python",
   "name": "python3"
  },
  "language_info": {
   "codemirror_mode": {
    "name": "ipython",
    "version": 3
   },
   "file_extension": ".py",
   "mimetype": "text/x-python",
   "name": "python",
   "nbconvert_exporter": "python",
   "pygments_lexer": "ipython3",
   "version": "3.7.4"
  }
 },
 "nbformat": 4,
 "nbformat_minor": 2
}
